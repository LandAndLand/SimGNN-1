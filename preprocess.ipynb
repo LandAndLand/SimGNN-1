{
 "metadata": {
  "language_info": {
   "codemirror_mode": {
    "name": "ipython",
    "version": 3
   },
   "file_extension": ".py",
   "mimetype": "text/x-python",
   "name": "python",
   "nbconvert_exporter": "python",
   "pygments_lexer": "ipython3",
   "version": "3.8.6-final"
  },
  "orig_nbformat": 2,
  "kernelspec": {
   "name": "python3",
   "display_name": "Python 3.8.6 64-bit ('normal')",
   "metadata": {
    "interpreter": {
     "hash": "f00aa4d08b5dbe9a4f4240f8270de016ce9f4f5bdff9dc19e01b094329a335d5"
    }
   }
  }
 },
 "nbformat": 4,
 "nbformat_minor": 2,
 "cells": [
  {
   "source": [
    "### 此文件的作用是： 读取 *.gexf文件，转换为graph形式，提取graph的edge和node矩阵，不同的图的edge和node矩阵以及ged距离组成graph pair，存入到json文件中。\n",
    "json文件是可直接用于model进行嵌入学习以及训练的文件"
   ],
   "cell_type": "markdown",
   "metadata": {}
  },
  {
   "cell_type": "code",
   "execution_count": 11,
   "metadata": {},
   "outputs": [],
   "source": [
    "import os\n",
    "import pickle\n",
    "import numpy as np\n",
    "import networkx as nx\n",
    "import regex\n",
    "import json\n",
    "\n",
    "from glob import glob\n",
    "from os.path import basename\n",
    "from os.path import dirname, abspath, isfile"
   ]
  },
  {
   "cell_type": "code",
   "execution_count": 16,
   "metadata": {},
   "outputs": [
    {
     "output_type": "execute_result",
     "data": {
      "text/plain": [
       "\" save_path = os.path.join(root_path, 'save')\\nresult_path = os.path.join(root_path, 'result') \""
      ]
     },
     "metadata": {},
     "execution_count": 16
    }
   ],
   "source": [
    "#root_path =  dirname(dirname(abspath('__file__')))\n",
    "#print(root_path)\n",
    "data_path = 'data/LINUX'\n",
    "train_data_path = os.path.join(data_path, 'train')\n",
    "test_data_path = os.path.join(data_path, 'test')\n",
    "\"\"\" save_path = os.path.join(root_path, 'save')\n",
    "result_path = os.path.join(root_path, 'result') \"\"\""
   ]
  },
  {
   "source": [
    "# 载入LINUX数据\n",
    "图的形式"
   ],
   "cell_type": "markdown",
   "metadata": {}
  },
  {
   "cell_type": "code",
   "execution_count": 23,
   "metadata": {},
   "outputs": [],
   "source": [
    "def load_graph(datadir):\n",
    "    \n",
    "    graphs = []\n",
    "    path_list=os.listdir(datadir)\n",
    "    path_list.sort(key=lambda x: int(regex.match('^(\\d+)', x).group(1)))\n",
    "    \n",
    "    for f in path_list:\n",
    "        gid = int(basename(f).split('.')[0])\n",
    "        #print(gid)\n",
    "        g_path = os.path.join(datadir, f)\n",
    "        g = nx.read_gexf(g_path)\n",
    "        g.graph[\"gid\"] = gid\n",
    "        graphs.append(g)\n",
    "        if not nx.is_connected(g):  #判断连通性\n",
    "            raise RuntimeError('{} not connected'.format(gid))\n",
    "\n",
    "    return graphs"
   ]
  },
  {
   "cell_type": "code",
   "execution_count": 49,
   "metadata": {},
   "outputs": [
    {
     "output_type": "stream",
     "name": "stdout",
     "text": [
      "number of train graphs: 800\nnumber of test graphs: 200\n"
     ]
    }
   ],
   "source": [
    "train_graphs = load_graph(train_data_path)\n",
    "test_graphs = load_graph(test_data_path)\n",
    "len_train = len(train_graphs)\n",
    "len_test = len(test_graphs)\n",
    "print(f'number of train graphs: {len_train}')\n",
    "print(f'number of test graphs: {len_test}')"
   ]
  },
  {
   "source": [
    "## 输入一个g, 输出图g的边矩阵、顶点向量"
   ],
   "cell_type": "markdown",
   "metadata": {}
  },
  {
   "cell_type": "code",
   "execution_count": 57,
   "metadata": {},
   "outputs": [],
   "source": [
    "labeled = True"
   ]
  },
  {
   "cell_type": "code",
   "execution_count": 53,
   "metadata": {},
   "outputs": [],
   "source": [
    "def get_graph_massage(g):\n",
    "    \"\"\"\n",
    "    输入一张图，返回 edges 和 labels\n",
    "    \"\"\"\n",
    "    v = len(g.nodes())\n",
    "    labels = [1 for i in range(v)]\n",
    "    \n",
    "    \"\"\"重新编号\"\"\"\n",
    "    id = 0\n",
    "    new_id = {}\n",
    "    # 建立node 的label和 node的id之间的映射\n",
    "    for node in g.nodes():\n",
    "        new_id[node] = id\n",
    "        id += 1\n",
    "    \n",
    "    if labeled == True:\n",
    "        hsh = list(g.nodes())\n",
    "        for node in g.nodes().data(): #形如 ('7', {'type': 'C', 'label': '7'})\n",
    "            # labels[7] = 8\n",
    "            labels[new_id[node[0]]] = int(node[1][\"label\"]) + 1\n",
    "            \n",
    "    edges = []\n",
    "    # edges 的每个元素形如： [7, 4]\n",
    "    for edge in g.edges().data(): #形如 ('7', '4', {'valence': 2, 'id': '6'})\n",
    "        edges.append([new_id[edge[0]], new_id[edge[1]]])\n",
    "    # 返回一个图的边矩阵, 以及顶点向量；\n",
    "    # 这是json的组成形式\n",
    "    return edges, labels"
   ]
  },
  {
   "source": [
    "# 生成json文件"
   ],
   "cell_type": "markdown",
   "metadata": {}
  },
  {
   "source": [
    "### ged_dict是一个字典， 形式是 [id1, id2] => ged"
   ],
   "cell_type": "markdown",
   "metadata": {}
  },
  {
   "cell_type": "code",
   "execution_count": 44,
   "metadata": {},
   "outputs": [],
   "source": [
    "with open(os.path.join(data_path, 'linux_ged_astar_gidpair_dist_map.pickle'), \"rb\") as handle:\n",
    "    ged_dict = pickle.load(handle)"
   ]
  },
  {
   "cell_type": "code",
   "execution_count": 46,
   "metadata": {},
   "outputs": [
    {
     "output_type": "execute_result",
     "data": {
      "text/plain": [
       "800000"
      ]
     },
     "metadata": {},
     "execution_count": 46
    }
   ],
   "source": [
    "len(ged_dict)"
   ]
  },
  {
   "cell_type": "code",
   "execution_count": 47,
   "metadata": {},
   "outputs": [],
   "source": [
    "def make_graph_pair(g_1, g_2):\n",
    "    \"\"\"\n",
    "    输入两张图，输出一个dict\n",
    "    \"\"\"\n",
    "    \n",
    "    graph_1, labels_1 = get_graph_massage(g_1)\n",
    "    graph_2, labels_2 = get_graph_massage(g_2)\n",
    "    ged = ged_dict[(g_1.graph[\"gid\"], g_2.graph[\"gid\"])]\n",
    "    \n",
    "    ret = {}\n",
    "    ret[\"graph_1\"] = graph_1\n",
    "    ret[\"graph_2\"] = graph_2\n",
    "    ret[\"labels_1\"] = labels_1\n",
    "    ret[\"labels_2\"] = labels_2\n",
    "    ret[\"ged\"] = ged\n",
    "    \n",
    "    # ret就是每个json文件的组成\n",
    "    return ret"
   ]
  },
  {
   "cell_type": "code",
   "execution_count": 65,
   "metadata": {},
   "outputs": [
    {
     "output_type": "error",
     "ename": "NameError",
     "evalue": "name 'json' is not defined",
     "traceback": [
      "\u001b[1;31m---------------------------------------------------------------------------\u001b[0m",
      "\u001b[1;31mNameError\u001b[0m                                 Traceback (most recent call last)",
      "\u001b[1;32m<ipython-input-65-ac1d7b888a51>\u001b[0m in \u001b[0;36m<module>\u001b[1;34m\u001b[0m\n\u001b[0;32m     17\u001b[0m         \u001b[0mtrain_pair_path\u001b[0m  \u001b[1;33m=\u001b[0m \u001b[0mjson_train_dir\u001b[0m \u001b[1;33m+\u001b[0m \u001b[1;34m'/{}.json'\u001b[0m\u001b[1;33m.\u001b[0m\u001b[0mformat\u001b[0m\u001b[1;33m(\u001b[0m\u001b[0mtrain_count\u001b[0m\u001b[1;33m)\u001b[0m\u001b[1;33m\u001b[0m\u001b[1;33m\u001b[0m\u001b[0m\n\u001b[0;32m     18\u001b[0m         \u001b[1;32mwith\u001b[0m \u001b[0mopen\u001b[0m\u001b[1;33m(\u001b[0m\u001b[0mtrain_pair_path\u001b[0m\u001b[1;33m,\u001b[0m \u001b[1;34m'w'\u001b[0m\u001b[1;33m)\u001b[0m \u001b[1;32mas\u001b[0m \u001b[0mjf\u001b[0m\u001b[1;33m:\u001b[0m\u001b[1;33m\u001b[0m\u001b[1;33m\u001b[0m\u001b[0m\n\u001b[1;32m---> 19\u001b[1;33m             \u001b[0mjson\u001b[0m\u001b[1;33m.\u001b[0m\u001b[0mdump\u001b[0m\u001b[1;33m(\u001b[0m\u001b[0mtrain_pair\u001b[0m\u001b[1;33m,\u001b[0m \u001b[0mjf\u001b[0m\u001b[1;33m,\u001b[0m \u001b[0mindent\u001b[0m\u001b[1;33m=\u001b[0m\u001b[1;36m4\u001b[0m\u001b[1;33m)\u001b[0m\u001b[1;33m\u001b[0m\u001b[1;33m\u001b[0m\u001b[0m\n\u001b[0m\u001b[0;32m     20\u001b[0m         \u001b[0mtrain_count\u001b[0m \u001b[1;33m=\u001b[0m \u001b[0mtrain_count\u001b[0m \u001b[1;33m+\u001b[0m \u001b[1;36m1\u001b[0m\u001b[1;33m\u001b[0m\u001b[1;33m\u001b[0m\u001b[0m\n\u001b[0;32m     21\u001b[0m \u001b[1;33m\u001b[0m\u001b[0m\n",
      "\u001b[1;31mNameError\u001b[0m: name 'json' is not defined"
     ]
    }
   ],
   "source": [
    "import json\n",
    "json_dir = 'dataset/LINUX/json'\n",
    "try :\n",
    "    os.makedirs(json_dir)\n",
    "except:\n",
    "    pass\n",
    "\n",
    "train_count = 0\n",
    "test_count = 0\n",
    "for i in range(len_train):\n",
    "    for j in range(i, len_train, 1):\n",
    "        train_pair = make_graph_pair(train_graphs[i], train_graphs[j])\n",
    "        json_train_dir = json_dir + '/train'\n",
    "        try :\n",
    "            os.makedirs(json_train_dir)\n",
    "        except:\n",
    "            pass\n",
    "        train_pair_path  = json_train_dir + '/{}.json'.format(train_count)\n",
    "        with open(train_pair_path, 'w') as jf:\n",
    "            json.dump(train_pair, jf, indent=4)\n",
    "        train_count = train_count + 1\n",
    "\n",
    "    for j in range(len_test):\n",
    "        test_pair = make_graph_pair(test_graphs[j], train_graphs[i])\n",
    "        json_test_dir = json_dir + '/test'\n",
    "        try :\n",
    "            os.makedirs(json_test_dir)\n",
    "        except:\n",
    "            pass\n",
    "        test_pair_path = json_test_dir + '/{}.json'.format(test_count)\n",
    "        with open(test_pair_path, 'w') as jf_test:\n",
    "            json.dump(test_pair, jf_test, indent=4)\n",
    "        test_count = test_count + 1\n"
   ]
  },
  {
   "source": [
    "### 读取训练集中的第一张图并画出来"
   ],
   "cell_type": "markdown",
   "metadata": {}
  },
  {
   "cell_type": "code",
   "execution_count": 27,
   "metadata": {},
   "outputs": [
    {
     "output_type": "display_data",
     "data": {
      "text/plain": "<Figure size 432x288 with 1 Axes>",
      "image/svg+xml": "<?xml version=\"1.0\" encoding=\"utf-8\" standalone=\"no\"?>\r\n<!DOCTYPE svg PUBLIC \"-//W3C//DTD SVG 1.1//EN\"\r\n  \"http://www.w3.org/Graphics/SVG/1.1/DTD/svg11.dtd\">\r\n<!-- Created with matplotlib (https://matplotlib.org/) -->\r\n<svg height=\"302.4pt\" version=\"1.1\" viewBox=\"0 0 446.4 302.4\" width=\"446.4pt\" xmlns=\"http://www.w3.org/2000/svg\" xmlns:xlink=\"http://www.w3.org/1999/xlink\">\r\n <metadata>\r\n  <rdf:RDF xmlns:cc=\"http://creativecommons.org/ns#\" xmlns:dc=\"http://purl.org/dc/elements/1.1/\" xmlns:rdf=\"http://www.w3.org/1999/02/22-rdf-syntax-ns#\">\r\n   <cc:Work>\r\n    <dc:type rdf:resource=\"http://purl.org/dc/dcmitype/StillImage\"/>\r\n    <dc:date>2020-12-14T18:48:44.280533</dc:date>\r\n    <dc:format>image/svg+xml</dc:format>\r\n    <dc:creator>\r\n     <cc:Agent>\r\n      <dc:title>Matplotlib v3.3.3, https://matplotlib.org/</dc:title>\r\n     </cc:Agent>\r\n    </dc:creator>\r\n   </cc:Work>\r\n  </rdf:RDF>\r\n </metadata>\r\n <defs>\r\n  <style type=\"text/css\">*{stroke-linecap:butt;stroke-linejoin:round;}</style>\r\n </defs>\r\n <g id=\"figure_1\">\r\n  <g id=\"patch_1\">\r\n   <path d=\"M 0 302.4 \r\nL 446.4 302.4 \r\nL 446.4 0 \r\nL 0 0 \r\nz\r\n\" style=\"fill:#ffffff;\"/>\r\n  </g>\r\n  <g id=\"axes_1\">\r\n   <g id=\"LineCollection_1\">\r\n    <path clip-path=\"url(#pf4db99c68c)\" d=\"M 279.552509 92.29093 \r\nL 419.563636 159.948436 \r\n\" style=\"fill:none;stroke:#000000;\"/>\r\n    <path clip-path=\"url(#pf4db99c68c)\" d=\"M 279.552509 92.29093 \r\nL 50.46362 144.591736 \r\n\" style=\"fill:none;stroke:#000000;\"/>\r\n    <path clip-path=\"url(#pf4db99c68c)\" d=\"M 279.552509 92.29093 \r\nL 334.546119 20.290909 \r\n\" style=\"fill:none;stroke:#000000;\"/>\r\n    <path clip-path=\"url(#pf4db99c68c)\" d=\"M 419.563636 159.948436 \r\nL 327.323641 237.254582 \r\n\" style=\"fill:none;stroke:#000000;\"/>\r\n    <path clip-path=\"url(#pf4db99c68c)\" d=\"M 327.323641 237.254582 \r\nL 230.99711 282.109091 \r\n\" style=\"fill:none;stroke:#000000;\"/>\r\n    <path clip-path=\"url(#pf4db99c68c)\" d=\"M 327.323641 237.254582 \r\nL 53.893314 274.583591 \r\n\" style=\"fill:none;stroke:#000000;\"/>\r\n    <path clip-path=\"url(#pf4db99c68c)\" d=\"M 50.46362 144.591736 \r\nL 26.836364 224.196149 \r\n\" style=\"fill:none;stroke:#000000;\"/>\r\n    <path clip-path=\"url(#pf4db99c68c)\" d=\"M 26.836364 224.196149 \r\nL 230.99711 282.109091 \r\n\" style=\"fill:none;stroke:#000000;\"/>\r\n    <path clip-path=\"url(#pf4db99c68c)\" d=\"M 26.836364 224.196149 \r\nL 53.893314 274.583591 \r\n\" style=\"fill:none;stroke:#000000;\"/>\r\n   </g>\r\n   <g id=\"PathCollection_1\">\r\n    <defs>\r\n     <path d=\"M 0 8.660254 \r\nC 2.296726 8.660254 4.499694 7.747755 6.123724 6.123724 \r\nC 7.747755 4.499694 8.660254 2.296726 8.660254 0 \r\nC 8.660254 -2.296726 7.747755 -4.499694 6.123724 -6.123724 \r\nC 4.499694 -7.747755 2.296726 -8.660254 0 -8.660254 \r\nC -2.296726 -8.660254 -4.499694 -7.747755 -6.123724 -6.123724 \r\nC -7.747755 -4.499694 -8.660254 -2.296726 -8.660254 0 \r\nC -8.660254 2.296726 -7.747755 4.499694 -6.123724 6.123724 \r\nC -4.499694 7.747755 -2.296726 8.660254 0 8.660254 \r\nz\r\n\" id=\"m1dc364dcf1\" style=\"stroke:#1f78b4;\"/>\r\n    </defs>\r\n    <g clip-path=\"url(#pf4db99c68c)\">\r\n     <use style=\"fill:#1f78b4;stroke:#1f78b4;\" x=\"279.552509\" xlink:href=\"#m1dc364dcf1\" y=\"92.29093\"/>\r\n     <use style=\"fill:#1f78b4;stroke:#1f78b4;\" x=\"419.563636\" xlink:href=\"#m1dc364dcf1\" y=\"159.948436\"/>\r\n     <use style=\"fill:#1f78b4;stroke:#1f78b4;\" x=\"327.323641\" xlink:href=\"#m1dc364dcf1\" y=\"237.254582\"/>\r\n     <use style=\"fill:#1f78b4;stroke:#1f78b4;\" x=\"50.46362\" xlink:href=\"#m1dc364dcf1\" y=\"144.591736\"/>\r\n     <use style=\"fill:#1f78b4;stroke:#1f78b4;\" x=\"26.836364\" xlink:href=\"#m1dc364dcf1\" y=\"224.196149\"/>\r\n     <use style=\"fill:#1f78b4;stroke:#1f78b4;\" x=\"334.546119\" xlink:href=\"#m1dc364dcf1\" y=\"20.290909\"/>\r\n     <use style=\"fill:#1f78b4;stroke:#1f78b4;\" x=\"230.99711\" xlink:href=\"#m1dc364dcf1\" y=\"282.109091\"/>\r\n     <use style=\"fill:#1f78b4;stroke:#1f78b4;\" x=\"53.893314\" xlink:href=\"#m1dc364dcf1\" y=\"274.583591\"/>\r\n    </g>\r\n   </g>\r\n   <g id=\"text_1\">\r\n    <g clip-path=\"url(#pf4db99c68c)\">\r\n     <!-- 0 -->\r\n     <g transform=\"translate(275.377821 95.60218)scale(0.12 -0.12)\">\r\n      <defs>\r\n       <path d=\"M 46 36.53125 \r\nQ 46 50.203125 43.4375 55.78125 \r\nQ 40.875 61.375 34.8125 61.375 \r\nQ 28.765625 61.375 26.171875 55.78125 \r\nQ 23.578125 50.203125 23.578125 36.53125 \r\nQ 23.578125 22.703125 26.171875 17.03125 \r\nQ 28.765625 11.375 34.8125 11.375 \r\nQ 40.828125 11.375 43.40625 17.03125 \r\nQ 46 22.703125 46 36.53125 \r\nz\r\nM 64.796875 36.375 \r\nQ 64.796875 18.265625 56.984375 8.421875 \r\nQ 49.171875 -1.421875 34.8125 -1.421875 \r\nQ 20.40625 -1.421875 12.59375 8.421875 \r\nQ 4.78125 18.265625 4.78125 36.375 \r\nQ 4.78125 54.546875 12.59375 64.375 \r\nQ 20.40625 74.21875 34.8125 74.21875 \r\nQ 49.171875 74.21875 56.984375 64.375 \r\nQ 64.796875 54.546875 64.796875 36.375 \r\nz\r\n\" id=\"DejaVuSans-Bold-48\"/>\r\n      </defs>\r\n      <use xlink:href=\"#DejaVuSans-Bold-48\"/>\r\n     </g>\r\n    </g>\r\n   </g>\r\n   <g id=\"text_2\">\r\n    <g clip-path=\"url(#pf4db99c68c)\">\r\n     <!-- 1 -->\r\n     <g transform=\"translate(415.388949 163.259686)scale(0.12 -0.12)\">\r\n      <defs>\r\n       <path d=\"M 11.71875 12.984375 \r\nL 28.328125 12.984375 \r\nL 28.328125 60.109375 \r\nL 11.28125 56.59375 \r\nL 11.28125 69.390625 \r\nL 28.21875 72.90625 \r\nL 46.09375 72.90625 \r\nL 46.09375 12.984375 \r\nL 62.703125 12.984375 \r\nL 62.703125 0 \r\nL 11.71875 0 \r\nz\r\n\" id=\"DejaVuSans-Bold-49\"/>\r\n      </defs>\r\n      <use xlink:href=\"#DejaVuSans-Bold-49\"/>\r\n     </g>\r\n    </g>\r\n   </g>\r\n   <g id=\"text_3\">\r\n    <g clip-path=\"url(#pf4db99c68c)\">\r\n     <!-- 2 -->\r\n     <g transform=\"translate(323.148953 240.565832)scale(0.12 -0.12)\">\r\n      <defs>\r\n       <path d=\"M 28.8125 13.8125 \r\nL 60.890625 13.8125 \r\nL 60.890625 0 \r\nL 7.90625 0 \r\nL 7.90625 13.8125 \r\nL 34.515625 37.3125 \r\nQ 38.09375 40.53125 39.796875 43.609375 \r\nQ 41.5 46.6875 41.5 50 \r\nQ 41.5 55.125 38.0625 58.25 \r\nQ 34.625 61.375 28.90625 61.375 \r\nQ 24.515625 61.375 19.28125 59.5 \r\nQ 14.0625 57.625 8.109375 53.90625 \r\nL 8.109375 69.921875 \r\nQ 14.453125 72.015625 20.65625 73.109375 \r\nQ 26.859375 74.21875 32.8125 74.21875 \r\nQ 45.90625 74.21875 53.15625 68.453125 \r\nQ 60.40625 62.703125 60.40625 52.390625 \r\nQ 60.40625 46.4375 57.328125 41.28125 \r\nQ 54.25 36.140625 44.390625 27.484375 \r\nz\r\n\" id=\"DejaVuSans-Bold-50\"/>\r\n      </defs>\r\n      <use xlink:href=\"#DejaVuSans-Bold-50\"/>\r\n     </g>\r\n    </g>\r\n   </g>\r\n   <g id=\"text_4\">\r\n    <g clip-path=\"url(#pf4db99c68c)\">\r\n     <!-- 3 -->\r\n     <g transform=\"translate(46.288933 147.902986)scale(0.12 -0.12)\">\r\n      <defs>\r\n       <path d=\"M 46.578125 39.3125 \r\nQ 53.953125 37.40625 57.78125 32.6875 \r\nQ 61.625 27.984375 61.625 20.703125 \r\nQ 61.625 9.859375 53.3125 4.21875 \r\nQ 45.015625 -1.421875 29.109375 -1.421875 \r\nQ 23.484375 -1.421875 17.84375 -0.515625 \r\nQ 12.203125 0.390625 6.6875 2.203125 \r\nL 6.6875 16.703125 \r\nQ 11.96875 14.0625 17.15625 12.71875 \r\nQ 22.359375 11.375 27.390625 11.375 \r\nQ 34.859375 11.375 38.84375 13.953125 \r\nQ 42.828125 16.546875 42.828125 21.390625 \r\nQ 42.828125 26.375 38.75 28.9375 \r\nQ 34.671875 31.5 26.703125 31.5 \r\nL 19.1875 31.5 \r\nL 19.1875 43.609375 \r\nL 27.09375 43.609375 \r\nQ 34.1875 43.609375 37.640625 45.828125 \r\nQ 41.109375 48.046875 41.109375 52.59375 \r\nQ 41.109375 56.78125 37.734375 59.078125 \r\nQ 34.375 61.375 28.21875 61.375 \r\nQ 23.6875 61.375 19.046875 60.34375 \r\nQ 14.40625 59.328125 9.8125 57.328125 \r\nL 9.8125 71.09375 \r\nQ 15.375 72.65625 20.84375 73.4375 \r\nQ 26.3125 74.21875 31.59375 74.21875 \r\nQ 45.796875 74.21875 52.84375 69.546875 \r\nQ 59.90625 64.890625 59.90625 55.515625 \r\nQ 59.90625 49.125 56.53125 45.046875 \r\nQ 53.171875 40.96875 46.578125 39.3125 \r\nz\r\n\" id=\"DejaVuSans-Bold-51\"/>\r\n      </defs>\r\n      <use xlink:href=\"#DejaVuSans-Bold-51\"/>\r\n     </g>\r\n    </g>\r\n   </g>\r\n   <g id=\"text_5\">\r\n    <g clip-path=\"url(#pf4db99c68c)\">\r\n     <!-- 4 -->\r\n     <g transform=\"translate(22.661676 227.507399)scale(0.12 -0.12)\">\r\n      <defs>\r\n       <path d=\"M 36.8125 57.421875 \r\nL 16.21875 26.90625 \r\nL 36.8125 26.90625 \r\nz\r\nM 33.6875 72.90625 \r\nL 54.59375 72.90625 \r\nL 54.59375 26.90625 \r\nL 64.984375 26.90625 \r\nL 64.984375 13.28125 \r\nL 54.59375 13.28125 \r\nL 54.59375 0 \r\nL 36.8125 0 \r\nL 36.8125 13.28125 \r\nL 4.5 13.28125 \r\nL 4.5 29.390625 \r\nz\r\n\" id=\"DejaVuSans-Bold-52\"/>\r\n      </defs>\r\n      <use xlink:href=\"#DejaVuSans-Bold-52\"/>\r\n     </g>\r\n    </g>\r\n   </g>\r\n   <g id=\"text_6\">\r\n    <g clip-path=\"url(#pf4db99c68c)\">\r\n     <!-- 5 -->\r\n     <g transform=\"translate(330.371432 23.602159)scale(0.12 -0.12)\">\r\n      <defs>\r\n       <path d=\"M 10.59375 72.90625 \r\nL 57.328125 72.90625 \r\nL 57.328125 59.078125 \r\nL 25.59375 59.078125 \r\nL 25.59375 47.796875 \r\nQ 27.734375 48.390625 29.90625 48.703125 \r\nQ 32.078125 49.03125 34.421875 49.03125 \r\nQ 47.75 49.03125 55.171875 42.359375 \r\nQ 62.59375 35.6875 62.59375 23.78125 \r\nQ 62.59375 11.96875 54.515625 5.265625 \r\nQ 46.4375 -1.421875 32.078125 -1.421875 \r\nQ 25.875 -1.421875 19.796875 -0.21875 \r\nQ 13.71875 0.984375 7.71875 3.421875 \r\nL 7.71875 18.21875 \r\nQ 13.671875 14.796875 19.015625 13.078125 \r\nQ 24.359375 11.375 29.109375 11.375 \r\nQ 35.9375 11.375 39.859375 14.71875 \r\nQ 43.796875 18.0625 43.796875 23.78125 \r\nQ 43.796875 29.546875 39.859375 32.859375 \r\nQ 35.9375 36.1875 29.109375 36.1875 \r\nQ 25.046875 36.1875 20.453125 35.125 \r\nQ 15.875 34.078125 10.59375 31.890625 \r\nz\r\n\" id=\"DejaVuSans-Bold-53\"/>\r\n      </defs>\r\n      <use xlink:href=\"#DejaVuSans-Bold-53\"/>\r\n     </g>\r\n    </g>\r\n   </g>\r\n   <g id=\"text_7\">\r\n    <g clip-path=\"url(#pf4db99c68c)\">\r\n     <!-- 6 -->\r\n     <g transform=\"translate(226.822422 285.420341)scale(0.12 -0.12)\">\r\n      <defs>\r\n       <path d=\"M 36.1875 35.984375 \r\nQ 31.25 35.984375 28.78125 32.78125 \r\nQ 26.3125 29.59375 26.3125 23.1875 \r\nQ 26.3125 16.796875 28.78125 13.59375 \r\nQ 31.25 10.40625 36.1875 10.40625 \r\nQ 41.15625 10.40625 43.625 13.59375 \r\nQ 46.09375 16.796875 46.09375 23.1875 \r\nQ 46.09375 29.59375 43.625 32.78125 \r\nQ 41.15625 35.984375 36.1875 35.984375 \r\nz\r\nM 59.421875 71 \r\nL 59.421875 57.515625 \r\nQ 54.78125 59.71875 50.671875 60.765625 \r\nQ 46.578125 61.8125 42.671875 61.8125 \r\nQ 34.28125 61.8125 29.59375 57.140625 \r\nQ 24.90625 52.484375 24.125 43.3125 \r\nQ 27.34375 45.703125 31.09375 46.890625 \r\nQ 34.859375 48.09375 39.3125 48.09375 \r\nQ 50.484375 48.09375 57.34375 41.546875 \r\nQ 64.203125 35.015625 64.203125 24.421875 \r\nQ 64.203125 12.703125 56.53125 5.640625 \r\nQ 48.875 -1.421875 35.984375 -1.421875 \r\nQ 21.78125 -1.421875 13.984375 8.171875 \r\nQ 6.203125 17.78125 6.203125 35.40625 \r\nQ 6.203125 53.46875 15.3125 63.796875 \r\nQ 24.421875 74.125 40.28125 74.125 \r\nQ 45.3125 74.125 50.046875 73.34375 \r\nQ 54.78125 72.5625 59.421875 71 \r\nz\r\n\" id=\"DejaVuSans-Bold-54\"/>\r\n      </defs>\r\n      <use xlink:href=\"#DejaVuSans-Bold-54\"/>\r\n     </g>\r\n    </g>\r\n   </g>\r\n   <g id=\"text_8\">\r\n    <g clip-path=\"url(#pf4db99c68c)\">\r\n     <!-- 7 -->\r\n     <g transform=\"translate(49.718627 277.894841)scale(0.12 -0.12)\">\r\n      <defs>\r\n       <path d=\"M 6.6875 72.90625 \r\nL 61.625 72.90625 \r\nL 61.625 62.3125 \r\nL 33.203125 0 \r\nL 14.890625 0 \r\nL 41.796875 59.078125 \r\nL 6.6875 59.078125 \r\nz\r\n\" id=\"DejaVuSans-Bold-55\"/>\r\n      </defs>\r\n      <use xlink:href=\"#DejaVuSans-Bold-55\"/>\r\n     </g>\r\n    </g>\r\n   </g>\r\n  </g>\r\n </g>\r\n <defs>\r\n  <clipPath id=\"pf4db99c68c\">\r\n   <rect height=\"288\" width=\"432\" x=\"7.2\" y=\"7.2\"/>\r\n  </clipPath>\r\n </defs>\r\n</svg>\r\n",
      "image/png": "[encoded data removed]"
     },
     "metadata": {}
    }
   ],
   "source": [
    "g_1 = train_graphs[0]\n",
    "nx.draw(g_1, with_labels=True, font_weight='bold')"
   ]
  },
  {
   "cell_type": "code",
   "execution_count": 40,
   "metadata": {},
   "outputs": [
    {
     "output_type": "execute_result",
     "data": {
      "text/plain": [
       "['0', '1', '2', '3', '4', '5', '6', '7']"
      ]
     },
     "metadata": {},
     "execution_count": 40
    }
   ],
   "source": [
    "list(g_1.nodes)"
   ]
  },
  {
   "cell_type": "code",
   "execution_count": 31,
   "metadata": {},
   "outputs": [
    {
     "output_type": "execute_result",
     "data": {
      "text/plain": [
       "[('0', {'label': '0'}),\n",
       " ('1', {'label': '1'}),\n",
       " ('2', {'label': '2'}),\n",
       " ('3', {'label': '3'}),\n",
       " ('4', {'label': '4'}),\n",
       " ('5', {'label': '5'}),\n",
       " ('6', {'label': '6'}),\n",
       " ('7', {'label': '7'})]"
      ]
     },
     "metadata": {},
     "execution_count": 31
    }
   ],
   "source": [
    "list(g_1.nodes(data=True))"
   ]
  },
  {
   "cell_type": "code",
   "execution_count": 42,
   "metadata": {},
   "outputs": [
    {
     "output_type": "execute_result",
     "data": {
      "text/plain": [
       "NodeDataView({'0': {'label': '0'}, '1': {'label': '1'}, '2': {'label': '2'}, '3': {'label': '3'}, '4': {'label': '4'}, '5': {'label': '5'}, '6': {'label': '6'}, '7': {'label': '7'}})"
      ]
     },
     "metadata": {},
     "execution_count": 42
    }
   ],
   "source": [
    "g_1.nodes().data()"
   ]
  },
  {
   "cell_type": "code",
   "execution_count": 34,
   "metadata": {},
   "outputs": [
    {
     "output_type": "execute_result",
     "data": {
      "text/plain": [
       "EdgeView([('0', '1'), ('0', '3'), ('0', '5'), ('1', '2'), ('2', '6'), ('2', '7'), ('3', '4'), ('4', '6'), ('4', '7')])"
      ]
     },
     "metadata": {},
     "execution_count": 34
    }
   ],
   "source": [
    "g_1.edges"
   ]
  },
  {
   "cell_type": "code",
   "execution_count": 43,
   "metadata": {},
   "outputs": [
    {
     "output_type": "execute_result",
     "data": {
      "text/plain": [
       "EdgeDataView([('0', '1', {'id': '0'}), ('0', '3', {'id': '1'}), ('0', '5', {'id': '2'}), ('1', '2', {'id': '3'}), ('2', '6', {'id': '4'}), ('2', '7', {'id': '5'}), ('3', '4', {'id': '6'}), ('4', '6', {'id': '7'}), ('4', '7', {'id': '8'})])"
      ]
     },
     "metadata": {},
     "execution_count": 43
    }
   ],
   "source": [
    "g_1.edges.data()"
   ]
  },
  {
   "cell_type": "code",
   "execution_count": 37,
   "metadata": {},
   "outputs": [
    {
     "output_type": "execute_result",
     "data": {
      "text/plain": [
       "[('0', {'1': {'id': '0'}, '3': {'id': '1'}, '5': {'id': '2'}}),\n",
       " ('1', {'0': {'id': '0'}, '2': {'id': '3'}}),\n",
       " ('2', {'1': {'id': '3'}, '6': {'id': '4'}, '7': {'id': '5'}}),\n",
       " ('3', {'0': {'id': '1'}, '4': {'id': '6'}}),\n",
       " ('4', {'3': {'id': '6'}, '6': {'id': '7'}, '7': {'id': '8'}}),\n",
       " ('5', {'0': {'id': '2'}}),\n",
       " ('6', {'2': {'id': '4'}, '4': {'id': '7'}}),\n",
       " ('7', {'2': {'id': '5'}, '4': {'id': '8'}})]"
      ]
     },
     "metadata": {},
     "execution_count": 37
    }
   ],
   "source": [
    "[(n, nbrdict) for n, nbrdict in g_1.adjacency()]\n",
    "# 显示的id是edge的id，即，第几条边\n",
    "# 总共有9条边，所以显示最大的id为8"
   ]
  }
 ]
}